{
 "cells": [
  {
   "cell_type": "code",
   "execution_count": 1,
   "metadata": {},
   "outputs": [],
   "source": [
    "#import libraries\n",
    "import tensorflow as tf"
   ]
  },
  {
   "cell_type": "code",
   "execution_count": 2,
   "metadata": {},
   "outputs": [],
   "source": [
    "tfs = tf.InteractiveSession()  #object creation for session"
   ]
  },
  {
   "cell_type": "code",
   "execution_count": 3,
   "metadata": {},
   "outputs": [],
   "source": [
    "Hello = tf.constant(\"Hello TensorFlow !!\")"
   ]
  },
  {
   "cell_type": "code",
   "execution_count": 4,
   "metadata": {},
   "outputs": [
    {
     "name": "stdout",
     "output_type": "stream",
     "text": [
      "b'Hello TensorFlow !!'\n"
     ]
    }
   ],
   "source": [
    "print(tfs.run(Hello))"
   ]
  },
  {
   "cell_type": "markdown",
   "metadata": {},
   "source": [
    "# Tensors"
   ]
  },
  {
   "cell_type": "markdown",
   "metadata": {},
   "source": [
    "# 1.A tensor is an n-dimensional collection of data\n",
    "\n",
    "# 2. Tensors identified by Rank,Shape and type\n",
    "\n",
    "----> Rank-no. of dimensions of a Tensor\n",
    "\n",
    "---->shape - the list denoting the size in each dimension\n",
    "\n",
    "\n",
    "# TensorFlow Python API data type\tDescription\n",
    "\n",
    "\n"
   ]
  },
  {
   "cell_type": "raw",
   "metadata": {},
   "source": [
    "tf.float16\t                                        16-bit half-precision floating point\n",
    "\n",
    "tf.float32\t                                        32-bit single-precision floating point\n",
    "\n",
    "tf.float64\t                                        64-bit double-precision floating point\n",
    "\n",
    "tf.bfloat16\t                                        16-bit truncated floating point\n",
    "\n",
    "tf.complex64\t                                    64-bit single-precision complex\n",
    "\n",
    "tf.complex128\t                                    128-bit double-precision complex\n",
    "\n",
    "tf.int8\t                                            8-bit signed integer\n",
    "\n",
    "tf.uint8\t                                        8-bit unsigned integer\n",
    "\n",
    "tf.uint16\t                                        16-bit unsigned integer\n",
    "\n",
    "tf.int16\t                                        16-bit signed integer\n",
    "\n",
    "tf.int32\t                                        32-bit signed integer\n",
    "\n",
    "tf.int64\t                                        64-bit signed integer\n",
    "\n",
    "tf.bool\t                                            Boolean\n",
    "\n",
    "tf.string\t                                        String\n",
    "\n",
    "tf.qint8\t                                        Quantized 8-bit signed integer\n",
    "\n",
    "tf.quint8\t                                        Quantized 8-bit unsigned integer\n",
    "\n",
    "tf.qint16\t                                        Quantized 16-bit signed integer\n",
    "\n",
    "tf.quint16\t                                        Quantized 16-bit unsigned integer\n",
    "\n",
    "tf.qint32\t                                        Quantized 32-bit signed integer\n",
    "\n",
    "tf.resource\t                                        Handle to a mutable resource"
   ]
  },
  {
   "cell_type": "markdown",
   "metadata": {},
   "source": [
    "# Constants"
   ]
  },
  {
   "cell_type": "raw",
   "metadata": {},
   "source": [
    "tf.constant(\n",
    "  value,\n",
    "  dtype=None,\n",
    "  shape=None,\n",
    "  name='Const',\n",
    "  verify_shape=False\n",
    ")"
   ]
  },
  {
   "cell_type": "code",
   "execution_count": 5,
   "metadata": {},
   "outputs": [],
   "source": [
    "a1 = tf.constant(7,name='x')\n",
    "a2 = tf.constant(5.0,name='y')\n",
    "a3 = tf.constant(6.0,tf.float32,name='z')"
   ]
  },
  {
   "cell_type": "code",
   "execution_count": 6,
   "metadata": {},
   "outputs": [
    {
     "name": "stdout",
     "output_type": "stream",
     "text": [
      "a1 (x):  Tensor(\"x:0\", shape=(), dtype=int32)\n",
      "a2 (y):  Tensor(\"y:0\", shape=(), dtype=float32)\n",
      "a3 (z):  Tensor(\"z:0\", shape=(), dtype=float32)\n"
     ]
    }
   ],
   "source": [
    "print('a1 (x): ',a1)\n",
    "print('a2 (y): ',a2)\n",
    "print('a3 (z): ',a3)"
   ]
  },
  {
   "cell_type": "markdown",
   "metadata": {},
   "source": [
    "# print the values of these constants"
   ]
  },
  {
   "cell_type": "code",
   "execution_count": 7,
   "metadata": {},
   "outputs": [
    {
     "name": "stdout",
     "output_type": "stream",
     "text": [
      "run([a1,a2,a3]) :  [7, 5.0, 6.0]\n"
     ]
    }
   ],
   "source": [
    "print('run([a1,a2,a3]) : ',tfs.run([a1,a2,a3]))"
   ]
  },
  {
   "cell_type": "markdown",
   "metadata": {},
   "source": [
    "# Operations"
   ]
  },
  {
   "cell_type": "code",
   "execution_count": 8,
   "metadata": {},
   "outputs": [
    {
     "name": "stdout",
     "output_type": "stream",
     "text": [
      "11.0\n"
     ]
    }
   ],
   "source": [
    "op1 = tf.add(a2,a3)\n",
    "print(tfs.run(op1))"
   ]
  },
  {
   "cell_type": "markdown",
   "metadata": {},
   "source": [
    "# we  cannot add and multiply with different datatype in tensors \n",
    "\n",
    "#Like -a1 has int32 and rest are float32 so we can perform operation in same dtype"
   ]
  },
  {
   "cell_type": "code",
   "execution_count": 9,
   "metadata": {},
   "outputs": [
    {
     "name": "stdout",
     "output_type": "stream",
     "text": [
      "30.0\n"
     ]
    }
   ],
   "source": [
    "op2 = tf.multiply(a2,a3)\n",
    "print(tfs.run(op2))"
   ]
  },
  {
   "cell_type": "markdown",
   "metadata": {},
   "source": [
    "# Placeholders"
   ]
  },
  {
   "cell_type": "raw",
   "metadata": {},
   "source": [
    "While constants allow us to provide a value at the time of defining the tensor,\n",
    "the placeholders allow us to create tensors whose values can be provided at runtime\n",
    "\n",
    "tf.placeholder(\n",
    "  dtype,\n",
    "  shape=None,\n",
    "  name=None\n",
    "  )"
   ]
  },
  {
   "cell_type": "code",
   "execution_count": 10,
   "metadata": {},
   "outputs": [],
   "source": [
    "p1 = tf.placeholder(tf.float32)\n",
    "p2 = tf.placeholder(tf.float32)"
   ]
  },
  {
   "cell_type": "code",
   "execution_count": 11,
   "metadata": {},
   "outputs": [
    {
     "name": "stdout",
     "output_type": "stream",
     "text": [
      "p1 :  Tensor(\"Placeholder:0\", dtype=float32)\n",
      "p2 :  Tensor(\"Placeholder_1:0\", dtype=float32)\n"
     ]
    }
   ],
   "source": [
    "print('p1 : ', p1)\n",
    "print('p2 : ', p2)"
   ]
  },
  {
   "cell_type": "code",
   "execution_count": 13,
   "metadata": {},
   "outputs": [],
   "source": [
    "op3 = tf.multiply(p1,p2)"
   ]
  },
  {
   "cell_type": "code",
   "execution_count": 15,
   "metadata": {},
   "outputs": [
    {
     "name": "stdout",
     "output_type": "stream",
     "text": [
      "run(op3,{p1:2.0, p2:3.0}) :  6.0\n"
     ]
    }
   ],
   "source": [
    "print('run(op3,{p1:2.0, p2:3.0}) : ',tfs.run(op3,{p1:2.0, p2:3.0}))"
   ]
  },
  {
   "cell_type": "code",
   "execution_count": 16,
   "metadata": {},
   "outputs": [
    {
     "name": "stdout",
     "output_type": "stream",
     "text": [
      "run(op3,feed_dict = {p1:[2.0,3.0,4.0], p2:[3.0,4.0,5.0]}) :  [ 6. 12. 20.]\n"
     ]
    }
   ],
   "source": [
    "print('run(op3,feed_dict = {p1:[2.0,3.0,4.0], p2:[3.0,4.0,5.0]}) : ',\n",
    "    tfs.run(op3,feed_dict = {p1:[2.0,3.0,4.0], p2:[3.0,4.0,5.0]}))"
   ]
  },
  {
   "cell_type": "markdown",
   "metadata": {},
   "source": [
    "# Variables"
   ]
  },
  {
   "cell_type": "markdown",
   "metadata": {},
   "source": [
    "While tf.Variable appears similar to tf.placeholder, there are subtle differences between the two:"
   ]
  },
  {
   "cell_type": "markdown",
   "metadata": {},
   "source": [
    "# Y = W*X + B"
   ]
  },
  {
   "cell_type": "code",
   "execution_count": 17,
   "metadata": {},
   "outputs": [],
   "source": [
    "w = tf.Variable([.3], tf.float32)\n",
    "b = tf.Variable([-.3], tf.float32)"
   ]
  },
  {
   "cell_type": "code",
   "execution_count": 18,
   "metadata": {},
   "outputs": [],
   "source": [
    "x = tf.placeholder(tf.float32)"
   ]
  },
  {
   "cell_type": "code",
   "execution_count": 21,
   "metadata": {},
   "outputs": [],
   "source": [
    "y = tf.add(tf.multiply(x,w),b)"
   ]
  },
  {
   "cell_type": "code",
   "execution_count": 22,
   "metadata": {},
   "outputs": [
    {
     "name": "stdout",
     "output_type": "stream",
     "text": [
      "w: <tf.Variable 'Variable:0' shape=(1,) dtype=float32_ref>\n",
      "x: Tensor(\"Placeholder_2:0\", dtype=float32)\n",
      "b: <tf.Variable 'Variable_1:0' shape=(1,) dtype=float32_ref>\n",
      "y: Tensor(\"Add_2:0\", dtype=float32)\n"
     ]
    }
   ],
   "source": [
    "print(\"w:\",w)\n",
    "print(\"x:\",x)\n",
    "print(\"b:\",b)\n",
    "print(\"y:\",y)"
   ]
  },
  {
   "cell_type": "code",
   "execution_count": 23,
   "metadata": {},
   "outputs": [],
   "source": [
    "tfs.run(tf.global_variables_initializer())"
   ]
  },
  {
   "cell_type": "code",
   "execution_count": 24,
   "metadata": {},
   "outputs": [
    {
     "name": "stdout",
     "output_type": "stream",
     "text": [
      "run(y,{x:[1,2,3,4]}) :  [0.         0.3        0.6        0.90000004]\n"
     ]
    }
   ],
   "source": [
    "print('run(y,{x:[1,2,3,4]}) : ',tfs.run(y,{x:[1,2,3,4]}))"
   ]
  },
  {
   "cell_type": "markdown",
   "metadata": {},
   "source": [
    "# Tensors generated from library functions"
   ]
  },
  {
   "cell_type": "code",
   "execution_count": 25,
   "metadata": {},
   "outputs": [
    {
     "name": "stdout",
     "output_type": "stream",
     "text": [
      "[0. 0. 0. 0. 0. 0. 0. 0. 0. 0. 0. 0. 0. 0. 0. 0. 0. 0. 0. 0. 0. 0. 0. 0.\n",
      " 0. 0. 0. 0. 0. 0. 0. 0. 0. 0. 0. 0. 0. 0. 0. 0. 0. 0. 0. 0. 0. 0. 0. 0.\n",
      " 0. 0. 0. 0. 0. 0. 0. 0. 0. 0. 0. 0. 0. 0. 0. 0. 0. 0. 0. 0. 0. 0. 0. 0.\n",
      " 0. 0. 0. 0. 0. 0. 0. 0. 0. 0. 0. 0. 0. 0. 0. 0. 0. 0. 0. 0. 0. 0. 0. 0.\n",
      " 0. 0. 0. 0.]\n"
     ]
    }
   ],
   "source": [
    "a=tf.zeros((100,))\n",
    "print(tfs.run(a))"
   ]
  }
 ],
 "metadata": {
  "kernelspec": {
   "display_name": "Python 3",
   "language": "python",
   "name": "python3"
  },
  "language_info": {
   "codemirror_mode": {
    "name": "ipython",
    "version": 3
   },
   "file_extension": ".py",
   "mimetype": "text/x-python",
   "name": "python",
   "nbconvert_exporter": "python",
   "pygments_lexer": "ipython3",
   "version": "3.6.7"
  }
 },
 "nbformat": 4,
 "nbformat_minor": 2
}
