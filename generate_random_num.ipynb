{
 "cells": [
  {
   "cell_type": "code",
   "execution_count": 1,
   "metadata": {
    "collapsed": true
   },
   "outputs": [],
   "source": [
    "import tensorflow as tf\n",
    "import matplotlib.pyplot as plt"
   ]
  },
  {
   "cell_type": "code",
   "execution_count": 6,
   "metadata": {},
   "outputs": [],
   "source": [
    "num= tf.random_normal([200], mean= 0.0,stddev = 1.0, dtype = tf.float32)"
   ]
  },
  {
   "cell_type": "code",
   "execution_count": 10,
   "metadata": {},
   "outputs": [
    {
     "name": "stdout",
     "output_type": "stream",
     "text": [
      "[-2.73347545  1.2476989   1.73135245 -1.3747828   0.99244398  0.63934624\n",
      "  1.05176985  0.48666489 -1.67429948  0.05779688 -0.46149251 -1.43354738\n",
      " -0.30788255 -0.42309698 -0.16907106 -0.33091354  0.62213957 -1.55009246\n",
      " -0.23863155 -1.20934606 -0.35324413  1.38097477  1.31416357  0.49940312\n",
      "  1.18585634  0.61426669 -0.67360777  3.01899886 -0.22485641  0.33819589\n",
      " -0.44349703  0.52269715 -0.44531283 -0.30209586  0.85115862 -0.20837301\n",
      "  1.28448033  0.16540402 -0.41800362 -1.60633266 -0.53093338 -1.52812374\n",
      " -0.77293992 -2.0877614  -0.1073381   0.31482318 -0.75688678  0.96149719\n",
      "  1.49700391  0.85761726 -1.72511888  1.02181685 -0.4874126  -2.45935178\n",
      "  1.78405964 -0.04227999  0.1040998   0.17943746  0.87930936 -1.23976493\n",
      " -0.67154258 -0.66835231 -1.49830067 -0.23066369  0.20927396  1.00829685\n",
      " -2.04651451 -0.08333026 -0.15247746 -0.17321493  1.66881537 -1.00492907\n",
      "  0.5903182  -2.26020312 -1.87814927  0.41531914  1.01396608  1.68926585\n",
      "  1.05633736 -0.38301656 -0.18903522 -0.70571381 -1.19733286  0.13157719\n",
      "  0.34113464  0.63585043  0.2878806   1.38252699  0.76621795 -0.62560892\n",
      "  0.92647588 -0.07223823 -0.11030818 -0.07319708 -0.24415757  0.87386572\n",
      "  1.27138579  0.89930433  0.01383484 -0.55650073 -0.47899809  0.47568434\n",
      "  0.86556679  0.25179991 -0.72624338 -1.0832274   0.86373144  1.87306464\n",
      "  1.65082157  0.69852704  1.78380144 -0.07760108 -0.01265409 -0.90502071\n",
      "  0.70252866  1.6857276  -1.42736518  0.04752353  2.60342646 -1.85734785\n",
      " -0.04333049 -1.10907996  0.65421861 -1.22860157  0.93174714 -0.24889117\n",
      "  1.06153369  0.32038629  0.3250815   0.61335105  1.66846538 -1.36518419\n",
      " -0.47960773  0.15851024 -0.70693225  0.04468728 -0.61006659  0.09551522\n",
      " -0.60766393 -0.75557709  1.17097604 -2.61219859  0.51285857  0.1272338\n",
      " -1.4836812   0.77965665  1.19628465 -0.49099991 -0.64125758 -0.95110834\n",
      " -0.41629708 -1.11212599 -0.96687949  0.04224467 -0.41659585  0.68529648\n",
      "  0.67697299  0.88186032 -0.98212308 -0.75091755  1.46348703  1.50722015\n",
      "  0.23760684 -0.40159455 -0.97504246  0.65259433  1.06486952  1.24325716\n",
      " -0.81264555  0.73115402 -0.01772113  0.24544907  1.46556783 -2.39920378\n",
      "  0.72547489 -1.6352005   0.4568384  -0.37514618 -0.03785836  0.93292207\n",
      " -0.02973605  0.53986031 -0.23171122  0.62065047 -0.97836125 -1.02853632\n",
      " -0.04037625 -0.70793205  0.58760774 -0.1851324  -0.55574167  1.00884509\n",
      "  0.21565519 -0.43149745  1.15417087 -0.17166449  0.42732999  0.18764505\n",
      " -1.26472056  0.52232015]\n"
     ]
    },
    {
     "data": {
      "image/png": "[encoded data removed]",
      "text/plain": [
       "<matplotlib.figure.Figure at 0x7f2609acaa20>"
      ]
     },
     "metadata": {},
     "output_type": "display_data"
    }
   ],
   "source": [
    "with tf.Session() as session:\n",
    "    print(num.eval())\n",
    "    plt.hist(num.eval(),normed=True)\n",
    "    plt.show()"
   ]
  },
  {
   "cell_type": "code",
   "execution_count": 9,
   "metadata": {},
   "outputs": [
    {
     "name": "stdout",
     "output_type": "stream",
     "text": [
      "[ 0.31136191  0.77802324  0.51826     0.85138679  0.58039021  0.84750783\n",
      "  0.78752732  0.38870943  0.31820393  0.48144734  0.77304387  0.28743315\n",
      "  0.87558842  0.07891619  0.13209605  0.96726882  0.37860715  0.78826725\n",
      "  0.98762429  0.16369128  0.18071687  0.7719872   0.99513543  0.3032254\n",
      "  0.90754664  0.76386273  0.18988252  0.48729253  0.86394048  0.54736304\n",
      "  0.74536037  0.66260493  0.13506389  0.01703811  0.13003063  0.58695066\n",
      "  0.52827477  0.59962344  0.86418951  0.16427326  0.69707847  0.10250139\n",
      "  0.5874362   0.71314251  0.82482398  0.90370047  0.77158868  0.80887508\n",
      "  0.33121622  0.01678753  0.93244326  0.00730062  0.56124663  0.79596305\n",
      "  0.63688326  0.13842177  0.0928607   0.82833421  0.66466367  0.20088291\n",
      "  0.91635597  0.63827848  0.49361825  0.82376146  0.18648398  0.19698513\n",
      "  0.07347572  0.86261308  0.71481907  0.10267758  0.49931741  0.59480178\n",
      "  0.44559968  0.58813477  0.19679213  0.43321323  0.65541232  0.04438734\n",
      "  0.2243799   0.76471591  0.00279534  0.69543242  0.07402921  0.53809571\n",
      "  0.94607842  0.74221814  0.51981926  0.84625804  0.60421455  0.49138355\n",
      "  0.18862152  0.65393949  0.39595294  0.26846552  0.18358767  0.16077435\n",
      "  0.46500671  0.92401838  0.80811608  0.85502386]\n"
     ]
    },
    {
     "data": {
      "image/png": "[encoded data removed]",
      "text/plain": [
       "<matplotlib.figure.Figure at 0x7f26096d2e10>"
      ]
     },
     "metadata": {},
     "output_type": "display_data"
    }
   ],
   "source": [
    "uniform = tf.random_uniform([100],minval=0,maxval=1,dtype=tf.float32)\n",
    "with tf.Session() as session:\n",
    "    print(uniform.eval())\n",
    "    plt.hist(uniform.eval(),normed=True)\n",
    "    plt.show()"
   ]
  },
  {
   "cell_type": "code",
   "execution_count": 11,
   "metadata": {
    "collapsed": true
   },
   "outputs": [],
   "source": [
    "uniform_with_seed = tf.random_uniform([1], seed=1)\n",
    "uniform_without_seed = tf.random_uniform([1])"
   ]
  },
  {
   "cell_type": "code",
   "execution_count": 13,
   "metadata": {},
   "outputs": [
    {
     "name": "stdout",
     "output_type": "stream",
     "text": [
      "First Run\n",
      "uniform with (seed = 1) = [ 0.23903739]\n",
      "uniform with (seed = 1) = [ 0.22267115]\n",
      "uniform without seed = [ 0.19425666]\n",
      "uniform without seed = [ 0.95641756]\n"
     ]
    }
   ],
   "source": [
    "print(\"First Run\")\n",
    "with tf.Session() as first_session:\n",
    "  print(\"uniform with (seed = 1) = {}\"\\\n",
    "        .format(first_session.run(uniform_with_seed)))  \n",
    "  print(\"uniform with (seed = 1) = {}\"\\\n",
    "        .format(first_session.run(uniform_with_seed)))\n",
    "  print(\"uniform without seed = {}\"\\\n",
    "        .format(first_session.run(uniform_without_seed)))  \n",
    "  print(\"uniform without seed = {}\"\\\n",
    "        .format(first_session.run(uniform_without_seed)))  \n"
   ]
  },
  {
   "cell_type": "code",
   "execution_count": 14,
   "metadata": {},
   "outputs": [
    {
     "name": "stdout",
     "output_type": "stream",
     "text": [
      "Second Run\n",
      "uniform with (seed = 1) = [ 0.23903739]\n",
      "uniform with (seed = 1) = [ 0.22267115]\n",
      "uniform without seed = [ 0.02022755]\n",
      "uniform without seed = [ 0.1960789]\n"
     ]
    }
   ],
   "source": [
    "print(\"Second Run\")\n",
    "with tf.Session() as second_session:\n",
    "  print(\"uniform with (seed = 1) = {}\"\\\n",
    "        .format(second_session.run(uniform_with_seed)))  \n",
    "  print(\"uniform with (seed = 1) = {}\"\\\n",
    "        .format(second_session.run(uniform_with_seed)))  \n",
    "  print(\"uniform without seed = {}\"\\\n",
    "        .format(second_session.run(uniform_without_seed)))  \n",
    "  print(\"uniform without seed = {}\"\\\n",
    "        .format(second_session.run(uniform_without_seed)))"
   ]
  },
  {
   "cell_type": "code",
   "execution_count": 15,
   "metadata": {},
   "outputs": [
    {
     "data": {
      "image/png": "[encoded data removed]",
      "text/plain": [
       "<matplotlib.figure.Figure at 0x7f260984e240>"
      ]
     },
     "metadata": {},
     "output_type": "display_data"
    }
   ],
   "source": [
    "trials = 100\n",
    "hits = 0\n",
    "x = tf.random_uniform([1],minval=-1,maxval=1,dtype=tf.float32)\n",
    "y = tf.random_uniform([1],minval=-1,maxval=1,dtype=tf.float32)\n",
    "pi = []\n",
    "sess = tf.Session()\n",
    "with sess.as_default():\n",
    "    for i in range(1,trials):\n",
    "        for j in range(1,trials):\n",
    "            if x.eval()**2 + y.eval()**2 < 1 :\n",
    "                hits = hits + 1\n",
    "                pi.append((4 * float(hits) / i)/trials)  \n",
    "\n",
    "plt.plot(pi)\n",
    "plt.show()"
   ]
  },
  {
   "cell_type": "code",
   "execution_count": null,
   "metadata": {
    "collapsed": true
   },
   "outputs": [],
   "source": []
  }
 ],
 "metadata": {
  "kernelspec": {
   "display_name": "Python 3",
   "language": "python",
   "name": "python3"
  },
  "language_info": {
   "codemirror_mode": {
    "name": "ipython",
    "version": 3
   },
   "file_extension": ".py",
   "mimetype": "text/x-python",
   "name": "python",
   "nbconvert_exporter": "python",
   "pygments_lexer": "ipython3",
   "version": "3.6.3"
  }
 },
 "nbformat": 4,
 "nbformat_minor": 2
}
